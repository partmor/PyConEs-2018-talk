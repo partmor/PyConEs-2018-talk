{
 "cells": [
  {
   "cell_type": "markdown",
   "metadata": {
    "slideshow": {
     "slide_type": "slide"
    }
   },
   "source": [
    "# ¡Escala tus *pipelines* de procesado de datos mixtos sin salir de scikit-learn!\n",
    "\n",
    "## Pedro Morales, Data Scientist @ Ebury\n",
    "<part.morales@gmail.com>\n",
    "\n",
    "<img src=img/ebury_logo.jpg alt=\"Drawing\" style=\"width: 200px;\"/>\n",
    "<img src=img/pycones.png alt=\"Drawing\" style=\"width: 150px;\"/>\n",
    "\n",
    "### PyConES 2018 @ Málaga, 2018-10-06"
   ]
  },
  {
   "cell_type": "markdown",
   "metadata": {
    "slideshow": {
     "slide_type": "slide"
    }
   },
   "source": [
    "# ¿Por qué scikit-learn?\n",
    "\n",
    "<img src=img/sklearn_logo.png alt=\"Drawing\" style=\"width: 200px;\"/>\n",
    "\n",
    "* Extensa colección de algoritmos y herramientas auxiliares para transformar datos y construir modelos\n",
    "* API muy expresiva y notación altamente estandarizada\n",
    "* Permite fácil integración de funcionalidades personalizadas\n",
    "* Proyecto muy activo en constante mejora\n",
    "\n",
    "* *[Inserte su motivo]*\n",
    "* **Python**!\n"
   ]
  },
  {
   "cell_type": "markdown",
   "metadata": {
    "slideshow": {
     "slide_type": "slide"
    }
   },
   "source": [
    "# `Pipeline` - ¿Para qué?\n",
    "\n",
    "* En la mayoría de problemas *reales*, "
   ]
  },
  {
   "cell_type": "code",
   "execution_count": null,
   "metadata": {},
   "outputs": [],
   "source": []
  }
 ],
 "metadata": {
  "celltoolbar": "Slideshow",
  "kernelspec": {
   "display_name": "Python 3",
   "language": "python",
   "name": "python3"
  },
  "language_info": {
   "codemirror_mode": {
    "name": "ipython",
    "version": 3
   },
   "file_extension": ".py",
   "mimetype": "text/x-python",
   "name": "python",
   "nbconvert_exporter": "python",
   "pygments_lexer": "ipython3",
   "version": "3.6.6"
  }
 },
 "nbformat": 4,
 "nbformat_minor": 2
}
